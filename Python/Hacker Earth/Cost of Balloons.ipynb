{
 "cells": [
  {
   "cell_type": "markdown",
   "metadata": {},
   "source": [
    "# cost of balloons"
   ]
  },
  {
   "cell_type": "markdown",
   "metadata": {},
   "source": [
    "### Input format\n",
    "   - First line:  that denotes the number of test cases ()\n",
    "   - For each test case: \n",
    "        1. First line: Cost of green and purple-colored balloons \n",
    "        2. Second line:  that denotes the number of participants ()\n",
    "   - Next  lines: Contain the status of users. For example, if the value of the  integer in the  row is , then it depicts that the  participant has not solved the  problem. Similarly, if the value of the  integer in the  row is , then it depicts that the  participant has solved the  problem.\n",
    "\n",
    "### Output format\n",
    "   - For each test case, print the minimum cost that you have to pay to purchase balloons."
   ]
  },
  {
   "cell_type": "code",
   "execution_count": 4,
   "metadata": {},
   "outputs": [
    {
     "data": {
      "text/plain": [
       "'for i in range(int(input())):\\n    cost=0\\n    g,p=input().split()\\n    g,p=int(g),int(p)\\n    for i in range(int(input())):\\n        a,b=input().split()\\n        a,b=int(a),int(b)\\n        if(a==0 and b==0):\\n            cost+=(g+p)\\n        elif((a==0 and b==1)or(a==1 and b==0)):\\n            cost+=min(a,b)\\n    print(cost)'"
      ]
     },
     "execution_count": 4,
     "metadata": {},
     "output_type": "execute_result"
    }
   ],
   "source": [
    "for i in range(int(input())):\n",
    "    cost=0\n",
    "    g,p=input().split()\n",
    "    g,p=int(g),int(p)\n",
    "    countA,countB=0,0\n",
    "    for i in range(int(input())):\n",
    "        a,b=input().split()\n",
    "        a,b=int(a),int(b)\n",
    "        if(a==1):\n",
    "            countA+=1\n",
    "        if(b==1):\n",
    "            countB+=1\n",
    "    cost=min(countA,countB)*max(g,p)+max(countA,countB)*min(g,p)\n",
    "    \n",
    "    print(cost)"
   ]
  }
 ],
 "metadata": {
  "kernelspec": {
   "display_name": "Python 3",
   "language": "python",
   "name": "python3"
  },
  "language_info": {
   "codemirror_mode": {
    "name": "ipython",
    "version": 3
   },
   "file_extension": ".py",
   "mimetype": "text/x-python",
   "name": "python",
   "nbconvert_exporter": "python",
   "pygments_lexer": "ipython3",
   "version": "3.7.1"
  }
 },
 "nbformat": 4,
 "nbformat_minor": 2
}
