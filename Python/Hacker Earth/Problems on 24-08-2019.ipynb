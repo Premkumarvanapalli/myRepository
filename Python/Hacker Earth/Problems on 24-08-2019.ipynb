{
 "cells": [
  {
   "cell_type": "code",
   "execution_count": 4,
   "metadata": {},
   "outputs": [
    {
     "name": "stdout",
     "output_type": "stream",
     "text": [
      "2\n",
      "6\n",
      "1\n",
      "6\n",
      "7\n",
      "8\n",
      "9\n",
      "10\n",
      "NO\n",
      "YES\n",
      "NO\n",
      "NO\n",
      "NO\n",
      "YES\n"
     ]
    }
   ],
   "source": [
    "from math import sqrt\n",
    "def prime(n):\n",
    "    sq=int(sqrt(n))+1\n",
    "    for i in range(2,sq):\n",
    "        if(n%i==0):\n",
    "            return False\n",
    "    return True\n",
    "p=int(input())\n",
    "li=[]\n",
    "maxim=0\n",
    "for i in range(int(input())):\n",
    "    num=int(input())\n",
    "    li.append(num)\n",
    "    if(num>maxim):\n",
    "        maxim=num\n",
    "primes=[]\n",
    "for i in range(2,maxim+1):\n",
    "    if(prime(i)):\n",
    "        primes.append(i)\n",
    "for num in li:\n",
    "    count=0\n",
    "    for i in primes:\n",
    "        if(num%i==0 and i<num//2):\n",
    "            count+=1\n",
    "        if(count==p):\n",
    "            break\n",
    "    if(count==p):\n",
    "        print(\"YES\")\n",
    "    else:\n",
    "        print(\"NO\")"
   ]
  },
  {
   "cell_type": "code",
   "execution_count": 1,
   "metadata": {},
   "outputs": [
    {
     "name": "stdout",
     "output_type": "stream",
     "text": [
      "1\n",
      "3\n",
      "2\n",
      "4\n"
     ]
    }
   ],
   "source": [
    "# Even exit\n",
    "a=int(input())\n",
    "odd=0\n",
    "while(a%2>0):\n",
    "    odd+=a\n",
    "    a=int(input())\n",
    "print(odd)"
   ]
  },
  {
   "cell_type": "code",
   "execution_count": 13,
   "metadata": {},
   "outputs": [
    {
     "name": "stdout",
     "output_type": "stream",
     "text": [
      "10\n",
      "1 2 4 7\n"
     ]
    }
   ],
   "source": [
    "n=int(input())\n",
    "li=[]\n",
    "index=1\n",
    "i=1\n",
    "while(index<n):\n",
    "    li.append(index)\n",
    "    index+=i\n",
    "    i+=1\n",
    "print(*li)"
   ]
  },
  {
   "cell_type": "markdown",
   "metadata": {},
   "source": [
    "# Methods"
   ]
  },
  {
   "cell_type": "markdown",
   "metadata": {},
   "source": [
    "#### def MethodName(arguments):\n",
    "   - Statements"
   ]
  },
  {
   "cell_type": "markdown",
   "metadata": {},
   "source": [
    "## C - Programming\n",
    " #### void sum(); // Function Declaration\n",
    " #### void main(){} // Main Function\n",
    " #### void sum(arguements){ // Function Definition\n",
    " #### Statements; // Statements\n",
    " #### }"
   ]
  },
  {
   "cell_type": "markdown",
   "metadata": {},
   "source": [
    "## Python Programming"
   ]
  },
  {
   "cell_type": "markdown",
   "metadata": {},
   "source": [
    "### Types of Arguments in python\n",
    "   1. Required Arguments\n",
    "   2. Keyword Arguments\n",
    "   3. Default Arguments\n",
    "   4. Variable Length Arguments"
   ]
  },
  {
   "cell_type": "markdown",
   "metadata": {},
   "source": [
    "### Required Arguments\n",
    " Function arguments and passed arguments will be the sam"
   ]
  },
  {
   "cell_type": "code",
   "execution_count": 14,
   "metadata": {},
   "outputs": [
    {
     "name": "stdout",
     "output_type": "stream",
     "text": [
      "10 20\n"
     ]
    }
   ],
   "source": [
    "def display(a,b):\n",
    "    print(a,b)\n",
    "display(10,20)"
   ]
  },
  {
   "cell_type": "markdown",
   "metadata": {},
   "source": [
    "### Keyword Arguments\n",
    "Function arguments will be passed using keywords"
   ]
  },
  {
   "cell_type": "code",
   "execution_count": 15,
   "metadata": {},
   "outputs": [
    {
     "name": "stdout",
     "output_type": "stream",
     "text": [
      "10 20\n"
     ]
    }
   ],
   "source": [
    "def display(a,b):\n",
    "    print(a,b)\n",
    "display(b=20,a=10)"
   ]
  },
  {
   "cell_type": "markdown",
   "metadata": {},
   "source": [
    "### Default Arguments\n",
    "Funtion Arguments with the default Values"
   ]
  },
  {
   "cell_type": "code",
   "execution_count": 25,
   "metadata": {},
   "outputs": [
    {
     "name": "stdout",
     "output_type": "stream",
     "text": [
      "30 40\n",
      "11 20\n",
      "10 11\n",
      "10 20\n",
      "(100, 200, 1, 2, 3, 4, 5, 6)\n"
     ]
    }
   ],
   "source": [
    "def display(a=10,b=20):\n",
    "    print(a,b)\n",
    "display(30,40)\n",
    "display(a=11)\n",
    "display(b=11)\n",
    "display()\n",
    "def r():\n",
    "    return 100,200,1,2,3,4,5,6 # Return type is tuple\n",
    "a=r()\n",
    "print(a)"
   ]
  },
  {
   "cell_type": "markdown",
   "metadata": {},
   "source": [
    "#### Evene Numbers between Range using Function"
   ]
  },
  {
   "cell_type": "code",
   "execution_count": 37,
   "metadata": {},
   "outputs": [
    {
     "name": "stdout",
     "output_type": "stream",
     "text": [
      "[2, 4, 6, 8, 10]\n"
     ]
    }
   ],
   "source": [
    "def even(n):\n",
    "    return list(range(2,n+1,2))\n",
    "print(even(10))"
   ]
  },
  {
   "cell_type": "markdown",
   "metadata": {},
   "source": [
    "#### Even Numbers Sum"
   ]
  },
  {
   "cell_type": "code",
   "execution_count": 43,
   "metadata": {},
   "outputs": [
    {
     "name": "stdout",
     "output_type": "stream",
     "text": [
      "10\n",
      "30\n"
     ]
    }
   ],
   "source": [
    "def evenSum(n):\n",
    "    #return sum(list(range(2,n+1,2)))\n",
    "    total=0\n",
    "    for i in range(2,n+1,2):\n",
    "        total+=i\n",
    "    return total\n",
    "print(evenSum(int(input())))"
   ]
  },
  {
   "cell_type": "code",
   "execution_count": 46,
   "metadata": {},
   "outputs": [
    {
     "name": "stdout",
     "output_type": "stream",
     "text": [
      "20\n",
      "30\n",
      "120\n"
     ]
    }
   ],
   "source": [
    "### Upper and Lower evens Sum\n",
    "def evensumlu(a,b):\n",
    "    if(a%2>0):\n",
    "        a+=1\n",
    "    return sum(list(range(a,b,2)))\n",
    "l=int(input())\n",
    "u=int(input())\n",
    "print(evensumlu(l,u))"
   ]
  }
 ],
 "metadata": {
  "kernelspec": {
   "display_name": "Python 3",
   "language": "python",
   "name": "python3"
  },
  "language_info": {
   "codemirror_mode": {
    "name": "ipython",
    "version": 3
   },
   "file_extension": ".py",
   "mimetype": "text/x-python",
   "name": "python",
   "nbconvert_exporter": "python",
   "pygments_lexer": "ipython3",
   "version": "3.7.1"
  }
 },
 "nbformat": 4,
 "nbformat_minor": 2
}
