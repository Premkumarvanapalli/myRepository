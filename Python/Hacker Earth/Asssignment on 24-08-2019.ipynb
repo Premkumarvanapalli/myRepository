{
 "cells": [
  {
   "cell_type": "markdown",
   "metadata": {},
   "source": [
    "# Special Number\n",
    " - which has atleast Prime Factors\n"
   ]
  },
  {
   "cell_type": "code",
   "execution_count": 101,
   "metadata": {},
   "outputs": [],
   "source": [
    "from math import sqrt\n",
    "def prime(n):\n",
    "    for i in range(2,int(sqrt(n)+1)):\n",
    "        if(n%i==0):\n",
    "            return False\n",
    "    return True"
   ]
  },
  {
   "cell_type": "code",
   "execution_count": 103,
   "metadata": {},
   "outputs": [
    {
     "name": "stdout",
     "output_type": "stream",
     "text": [
      "[2, 3, 5, 7, 11, 13, 17, 19, 23, 29, 31, 37, 41, 43, 47]\n"
     ]
    }
   ],
   "source": []
  },
  {
   "cell_type": "code",
   "execution_count": 108,
   "metadata": {},
   "outputs": [
    {
     "name": "stdout",
     "output_type": "stream",
     "text": [
      "5 3\n",
      "30\n",
      "10\n",
      "20\n",
      "50\n",
      "60\n",
      "2 3 5 7 11 13 17 19 23 29 31 37 41 43 47 53 59\n",
      "30\n",
      "60\n"
     ]
    }
   ],
   "source": [
    "n,p=map(int,input().split())\n",
    "li=[]\n",
    "maxim=0\n",
    "for i in range(n):\n",
    "    li.append(int(input()))\n",
    "    if(li[i]>maxim):\n",
    "        maxim=li[i]\n",
    "primes=[]\n",
    "for i in range(2,maxim):\n",
    "    if(prime(i)):\n",
    "        primes.append(i)\n",
    "print(*primes)\n",
    "for i in li:\n",
    "    count=0\n",
    "    for pr in primes:\n",
    "        if(i%pr==0):\n",
    "            count+=1\n",
    "        if(count==p):\n",
    "            break\n",
    "    if(count==p):\n",
    "        print(i)\n"
   ]
  },
  {
   "cell_type": "code",
   "execution_count": 12,
   "metadata": {},
   "outputs": [
    {
     "data": {
      "text/plain": [
       "0"
      ]
     },
     "execution_count": 12,
     "metadata": {},
     "output_type": "execute_result"
    }
   ],
   "source": []
  }
 ],
 "metadata": {
  "kernelspec": {
   "display_name": "Python 3",
   "language": "python",
   "name": "python3"
  },
  "language_info": {
   "codemirror_mode": {
    "name": "ipython",
    "version": 3
   },
   "file_extension": ".py",
   "mimetype": "text/x-python",
   "name": "python",
   "nbconvert_exporter": "python",
   "pygments_lexer": "ipython3",
   "version": "3.7.1"
  }
 },
 "nbformat": 4,
 "nbformat_minor": 2
}
