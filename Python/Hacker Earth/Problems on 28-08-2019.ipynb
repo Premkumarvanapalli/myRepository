{
 "cells": [
  {
   "cell_type": "markdown",
   "metadata": {},
   "source": [
    "## Phone Number Format"
   ]
  },
  {
   "cell_type": "code",
   "execution_count": 1,
   "metadata": {},
   "outputs": [
    {
     "name": "stdout",
     "output_type": "stream",
     "text": [
      "4\n",
      "+919876543210\n",
      "+91-(987)-654-3210\n",
      "919876123540\n",
      "+91-(987)-612-3540\n",
      "9753124601\n",
      "+91-(975)-312-4601\n",
      "09876543213\n",
      "+91-(987)-654-3213\n"
     ]
    }
   ],
   "source": [
    "n=int(input())\n",
    "for _ in range(n):\n",
    "    s=input()[-10:]\n",
    "    print(\"+91-({0})-{1}-{2}\".format(s[:3],s[3:6],s[6:]))\n"
   ]
  },
  {
   "cell_type": "markdown",
   "metadata": {},
   "source": [
    "## Print without Spaces"
   ]
  },
  {
   "cell_type": "code",
   "execution_count": 2,
   "metadata": {},
   "outputs": [
    {
     "name": "stdout",
     "output_type": "stream",
     "text": [
      "4\n",
      "p r e m\n",
      "prem\n",
      "k u m a r\n",
      "kumar\n",
      "va na pa lli\n",
      "vanapalli\n",
      "b\n",
      "b\n"
     ]
    }
   ],
   "source": [
    "n=int(input())\n",
    "for _ in range(n):\n",
    "    print(''.join(input().split()))\n"
   ]
  },
  {
   "cell_type": "markdown",
   "metadata": {},
   "source": [
    "## SIMILAR COUNT"
   ]
  },
  {
   "cell_type": "code",
   "execution_count": 4,
   "metadata": {},
   "outputs": [
    {
     "name": "stdout",
     "output_type": "stream",
     "text": [
      "11001100\n",
      "10101010\n",
      "4\n"
     ]
    }
   ],
   "source": [
    "a=input()\n",
    "b=input()\n",
    "count=0\n",
    "for i in range(len(a)):\n",
    "    if(a[i]==b[i]):\n",
    "        count+=1\n",
    "print(count)"
   ]
  }
 ],
 "metadata": {
  "kernelspec": {
   "display_name": "Python 3",
   "language": "python",
   "name": "python3"
  },
  "language_info": {
   "codemirror_mode": {
    "name": "ipython",
    "version": 3
   },
   "file_extension": ".py",
   "mimetype": "text/x-python",
   "name": "python",
   "nbconvert_exporter": "python",
   "pygments_lexer": "ipython3",
   "version": "3.7.3"
  }
 },
 "nbformat": 4,
 "nbformat_minor": 2
}
