{
 "cells": [
  {
   "cell_type": "markdown",
   "metadata": {},
   "source": [
    "# Ciry Travel\n",
    "  - [link] https://www.hackerearth.com/practice/basic-programming/implementation/basics-of-implementation/practice-problems/algorithm/city-travel-59bad87f/"
   ]
  },
  {
   "cell_type": "code",
   "execution_count": 1,
   "metadata": {},
   "outputs": [
    {
     "name": "stdout",
     "output_type": "stream",
     "text": [
      "21 5 2\n",
      "2 4\n",
      "4 8\n",
      "4\n"
     ]
    }
   ],
   "source": [
    "s,x,n=map(int,input().split())\n",
    "t=[]\n",
    "for i in range(n):\n",
    "    t.append(list(map(int,input().split())))\n",
    "t.sort()\n",
    "days=0\n",
    "index=0\n",
    "while(s>0):\n",
    "    if(t[index][0]==days):\n",
    "        s=s-t[index][1]\n",
    "        index+=1\n",
    "    else:\n",
    "        s=s-x\n",
    "        days+=1\n",
    "print(days)"
   ]
  },
  {
   "cell_type": "markdown",
   "metadata": {},
   "source": [
    "# print hackerearth\n",
    "  - [Link] https://www.hackerearth.com/practice/basic-programming/implementation/basics-of-implementation/practice-problems/algorithm/print-hackerearth/"
   ]
  },
  {
   "cell_type": "code",
   "execution_count": null,
   "metadata": {},
   "outputs": [],
   "source": [
    "e=dict()\n",
    "input()\n",
    "s=input()\n",
    "if(len(s)<11):\n",
    "    print(0)\n",
    "else:\n",
    "    for i in s:\n",
    "        try:\n",
    "            e[i]+=1\n",
    "        except:\n",
    "            e[i]=1\n",
    "    res=0\n",
    "    while(1):\n",
    "        if(e['a']>=2 and e['c']>=1 and e['e']>=2 and e['h']>=2 and e['k']>=1 and e['r']>=2 and e['t']>=1):\n",
    "            res+=1\n",
    "            e['a']-=2\n",
    "            e['c']-=1\n",
    "            e['e']-=2\n",
    "            e['h']-=2\n",
    "            e['k']-=1\n",
    "            e['r']-=2\n",
    "            e['t']-=1\n",
    "        else:\n",
    "            break\n",
    "    print(res)"
   ]
  },
  {
   "cell_type": "markdown",
   "metadata": {},
   "source": [
    "# Little Jhool and psychic powers\n",
    "  - [Link] https://www.hackerearth.com/practice/basic-programming/implementation/basics-of-implementation/practice-problems/algorithm/psychic-powers/"
   ]
  },
  {
   "cell_type": "code",
   "execution_count": 3,
   "metadata": {},
   "outputs": [
    {
     "name": "stdout",
     "output_type": "stream",
     "text": [
      "0001111110\n",
      "Sorry, sorry!\n"
     ]
    }
   ],
   "source": [
    "import re\n",
    "s=input()\n",
    "if(bool(re.search('0{6}',s)) or bool(re.search('1{6}',s))):\n",
    "    print(\"Sorry, sorry!\")\n",
    "else:\n",
    "    print(\"Good luck!\")"
   ]
  },
  {
   "cell_type": "markdown",
   "metadata": {},
   "source": [
    "# Binary associativity\n",
    "  - [Link] https://www.hackerearth.com/practice/basic-programming/implementation/basics-of-implementation/practice-problems/algorithm/binary-associativity-fc8ca73f/"
   ]
  },
  {
   "cell_type": "code",
   "execution_count": null,
   "metadata": {},
   "outputs": [],
   "source": []
  }
 ],
 "metadata": {
  "kernelspec": {
   "display_name": "Python 3",
   "language": "python",
   "name": "python3"
  },
  "language_info": {
   "codemirror_mode": {
    "name": "ipython",
    "version": 3
   },
   "file_extension": ".py",
   "mimetype": "text/x-python",
   "name": "python",
   "nbconvert_exporter": "python",
   "pygments_lexer": "ipython3",
   "version": "3.7.1"
  }
 },
 "nbformat": 4,
 "nbformat_minor": 2
}
