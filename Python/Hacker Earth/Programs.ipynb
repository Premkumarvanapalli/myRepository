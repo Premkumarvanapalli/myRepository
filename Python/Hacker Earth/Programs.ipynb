{
 "cells": [
  {
   "cell_type": "markdown",
   "metadata": {},
   "source": [
    "# Brick Game"
   ]
  },
  {
   "cell_type": "code",
   "execution_count": 12,
   "metadata": {},
   "outputs": [
    {
     "name": "stdout",
     "output_type": "stream",
     "text": [
      "25\n",
      "patlu 1 24 Motu 2 22\n",
      "patlu 2 20 Motu 4 16\n",
      "patlu 3 13 Motu 6 7\n",
      "patlu 4 3 Motu\n"
     ]
    }
   ],
   "source": [
    "n=int(input())\n",
    "res=0\n",
    "i=1\n",
    "while(1):\n",
    "    if(n-i<=0):\n",
    "        res=0\n",
    "        break\n",
    "    else:\n",
    "        n=n-i\n",
    "    if(n-i*2<=0):\n",
    "        res=1\n",
    "        break\n",
    "    else:\n",
    "        n=n-i*2\n",
    "    i+=1\n",
    "if(res==1):\n",
    "    print(\"Motu\")\n",
    "else:\n",
    "    print(\"Patlu\")"
   ]
  },
  {
   "cell_type": "markdown",
   "metadata": {},
   "source": [
    "# Lift Queries"
   ]
  },
  {
   "cell_type": "code",
   "execution_count": 19,
   "metadata": {},
   "outputs": [
    {
     "name": "stdout",
     "output_type": "stream",
     "text": [
      "2\n",
      "3\n",
      "A\n",
      "5\n",
      "A\n"
     ]
    }
   ],
   "source": [
    "la=0\n",
    "lb=7\n",
    "for i in range(int(input())):\n",
    "    n=int(input())\n",
    "    if(abs(la-n)<abs(lb-n)):\n",
    "        print('A')\n",
    "        la=n\n",
    "    elif(abs(la-n)>abs(lb-n)):\n",
    "        print('B')\n",
    "        lb=n\n",
    "    elif(abs(la-n)==abs(lb-n)):\n",
    "        print('A')\n",
    "        la=n"
   ]
  }
 ],
 "metadata": {
  "kernelspec": {
   "display_name": "Python 3",
   "language": "python",
   "name": "python3"
  },
  "language_info": {
   "codemirror_mode": {
    "name": "ipython",
    "version": 3
   },
   "file_extension": ".py",
   "mimetype": "text/x-python",
   "name": "python",
   "nbconvert_exporter": "python",
   "pygments_lexer": "ipython3",
   "version": "3.7.1"
  }
 },
 "nbformat": 4,
 "nbformat_minor": 2
}
