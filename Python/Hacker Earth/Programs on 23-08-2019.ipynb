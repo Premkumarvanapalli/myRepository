{
 "cells": [
  {
   "cell_type": "markdown",
   "metadata": {},
   "source": [
    "# Duration \n",
    "   - Find working time\n",
    "   - [Link] https://www.hackerearth.com/practice/basic-programming/input-output/basics-of-input-output/practice-problems/algorithm/duration/"
   ]
  },
  {
   "cell_type": "code",
   "execution_count": 1,
   "metadata": {},
   "outputs": [
    {
     "name": "stdout",
     "output_type": "stream",
     "text": [
      "1\n",
      "1 44 2 14\n",
      "0 30\n"
     ]
    }
   ],
   "source": [
    "t=int(input())\n",
    "times=[]\n",
    "for i in range(t):\n",
    "    times.append(input().split())\n",
    "for time in times:\n",
    "    sh,se,eh,ee=int(time[0]),int(time[1]),int(time[2]),int(time[3])\n",
    "    minutes=(60-se)+ee+(eh-(sh+1))*60\n",
    "    print(minutes//60,minutes%60)"
   ]
  },
  {
   "cell_type": "markdown",
   "metadata": {},
   "source": [
    "# Book of potion Making\n",
    " - Find book number is legal or illegal ISBn\n",
    " - [link] https://www.hackerearth.com/practice/basic-programming/input-output/basics-of-input-output/practice-problems/algorithm/sum-it-if-you-can-4867f851/description/"
   ]
  },
  {
   "cell_type": "code",
   "execution_count": 2,
   "metadata": {},
   "outputs": [
    {
     "name": "stdout",
     "output_type": "stream",
     "text": [
      "1401401401\n",
      "Illegal ISBN\n"
     ]
    }
   ],
   "source": [
    "total=0\n",
    "r=1\n",
    "n=input()\n",
    "for i in n:\n",
    "   total=total+(int(i)*r)\n",
    "   r+=1\n",
    "if(total%11==0):\n",
    "    print(\"Legal ISBN\")\n",
    "else:\n",
    "    print(\"Illegal ISBN\")"
   ]
  },
  {
   "cell_type": "markdown",
   "metadata": {},
   "source": [
    "# Aman & Mr.Sharma\n",
    "- [link] https://www.hackerearth.com/practice/basic-programming/input-output/basics-of-input-output/practice-problems/algorithm/aman-mrsharma/"
   ]
  },
  {
   "cell_type": "code",
   "execution_count": 3,
   "metadata": {},
   "outputs": [
    {
     "name": "stdout",
     "output_type": "stream",
     "text": [
      "1\n",
      "3 2\n",
      "1\n"
     ]
    }
   ],
   "source": [
    "d=int(input())\n",
    "total=0\n",
    "pi=22/7\n",
    "for i in range(d):\n",
    "    r,x=input().split()\n",
    "    r,x=int(r),int(x)\n",
    "    circum=int(2*pi*r)\n",
    "    if(circum<x*100):\n",
    "        total+=1\n",
    "print(total)"
   ]
  },
  {
   "cell_type": "markdown",
   "metadata": {},
   "source": [
    "# Ladderophilia\n",
    "- [link] https://www.hackerearth.com/practice/basic-programming/input-output/basics-of-input-output/practice-problems/algorithm/ladderophilia/"
   ]
  },
  {
   "cell_type": "code",
   "execution_count": 4,
   "metadata": {},
   "outputs": [
    {
     "name": "stdout",
     "output_type": "stream",
     "text": [
      "1\n",
      "*   *\n",
      "*   *\n",
      "*****\n",
      "\n",
      "*   *\n",
      "*   *\n"
     ]
    }
   ],
   "source": [
    "n=int(input())\n",
    "print(n*\"*   *\\n*   *\\n*****\\n\")\n",
    "print('*   *\\n*   *')\n"
   ]
  },
  {
   "cell_type": "markdown",
   "metadata": {},
   "source": [
    "# Play with Numbers\n",
    " - [Link] https://www.hackerearth.com/practice/basic-programming/input-output/basics-of-input-output/practice-problems/algorithm/play-with-numbers-2/description/"
   ]
  },
  {
   "cell_type": "code",
   "execution_count": null,
   "metadata": {},
   "outputs": [],
   "source": [
    "n,q=map(int,input().split())\n",
    "sums=[0]+list(map(int,input().split()))\n",
    "for i in range(1,len(sums)):\n",
    "    sums[i]=sums[i]+sums[i-1]\n",
    "for i in range(q):\n",
    "    l,r=map(int,input().split())\n",
    "    print((sums[r]-sums[l-1])//(r-l+1))"
   ]
  },
  {
   "cell_type": "markdown",
   "metadata": {},
   "source": [
    "# Seven Segment Display\n",
    " - [Link] https://www.hackerearth.com/practice/basic-programming/input-output/basics-of-input-output/practice-problems/algorithm/seven-segment-display-nov-easy-e7f87ce0/#c194737"
   ]
  },
  {
   "cell_type": "code",
   "execution_count": 16,
   "metadata": {},
   "outputs": [
    {
     "name": "stdout",
     "output_type": "stream",
     "text": [
      "1\n",
      "12\n",
      "711\n"
     ]
    }
   ],
   "source": [
    "t=int(input())\n",
    "dic={'0': 6, '1': 2, '2': 5, '3': 5, '4': 4, '5': 5, '6': 6, '7': 3, '8': 7, '9': 6}\n",
    "def sticks(s):\n",
    "    count=0\n",
    "    for i in s:\n",
    "        count=count+dic[i]\n",
    "    return count\n",
    "for i in range(t):\n",
    "    num=input()\n",
    "    total=sticks(num)\n",
    "    if(total%2==0):\n",
    "        print('1'*(total//2))\n",
    "    else:\n",
    "        print('7'+('1'*((total//2)-1)))"
   ]
  },
  {
   "cell_type": "markdown",
   "metadata": {},
   "source": [
    "# Best Index\n",
    " - [Link] https://www.hackerearth.com/practice/basic-programming/input-output/basics-of-input-output/practice-problems/algorithm/best-index-1-45a2f8ff/\n",
    " \n",
    " ![alt Explination](problem.PNG)"
   ]
  },
  {
   "cell_type": "code",
   "execution_count": 7,
   "metadata": {
    "scrolled": true
   },
   "outputs": [
    {
     "name": "stdout",
     "output_type": "stream",
     "text": [
      "0 1 3 6 6\n",
      "1 2 4 4\n",
      "2 3 5 5\n",
      "3 4 6 6\n",
      "4 5 5\n",
      "5 6 6\n"
     ]
    }
   ],
   "source": [
    "#n=int(input())\n",
    "n=6\n",
    "li=[-3,2,3,-4,3,1]\n",
    "#li=[0]+list(map(int,input().split()))\n",
    "for i in range(n):\n",
    "    total=li[i]\n",
    "    start=i\n",
    "    ind=1\n",
    "    print(start,end=' ')\n",
    "    while(n-start>=ind):\n",
    "        total=total+sum(li[start:start+ind])\n",
    "        start=start+ind\n",
    "        print(start,end=' ')\n",
    "        ind=ind+1\n",
    "    print(start)"
   ]
  },
  {
   "cell_type": "markdown",
   "metadata": {},
   "source": [
    "# Cipher\n",
    " - [link] https://www.hackerearth.com/practice/basic-programming/input-output/basics-of-input-output/practice-problems/algorithm/cipher-1/"
   ]
  },
  {
   "cell_type": "code",
   "execution_count": 21,
   "metadata": {},
   "outputs": [
    {
     "name": "stdout",
     "output_type": "stream",
     "text": [
      "All-convoYs-9-be:Alert1.\n",
      "4\n",
      "Epp-gsrzsCw-4-fi:Epivx5.\n"
     ]
    }
   ],
   "source": [
    "s=input()\n",
    "k=int(input())\n",
    "output=\"\"\n",
    "for i in s:\n",
    "    c=ord(i)\n",
    "    if(i.isdigit()):\n",
    "        c=c+(k%10)\n",
    "        if(c>57):\n",
    "            c=48+c-57\n",
    "    elif(i.isalpha()):\n",
    "        if(c>64 and c<91):\n",
    "            c=c+(k%26)\n",
    "            if(c>90):\n",
    "                c=64+(c-90)\n",
    "        else:\n",
    "            c=c+(k%26)\n",
    "            if(c>122):\n",
    "                c=96+(c-122)\n",
    "    output+=chr(c)\n",
    "print(output)"
   ]
  },
  {
   "cell_type": "code",
   "execution_count": null,
   "metadata": {},
   "outputs": [],
   "source": []
  }
 ],
 "metadata": {
  "kernelspec": {
   "display_name": "Python 3",
   "language": "python",
   "name": "python3"
  },
  "language_info": {
   "codemirror_mode": {
    "name": "ipython",
    "version": 3
   },
   "file_extension": ".py",
   "mimetype": "text/x-python",
   "name": "python",
   "nbconvert_exporter": "python",
   "pygments_lexer": "ipython3",
   "version": "3.7.1"
  }
 },
 "nbformat": 4,
 "nbformat_minor": 2
}
