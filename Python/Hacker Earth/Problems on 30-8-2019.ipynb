{
 "cells": [
  {
   "cell_type": "markdown",
   "metadata": {},
   "source": [
    "## Health Of a Person\n",
    "  - [Link] https://www.hackerearth.com/challenges/competitive/august-circuits-19/algorithm/attack-of-the-mind-flayer-3-119b5d47/"
   ]
  },
  {
   "cell_type": "code",
   "execution_count": 90,
   "metadata": {},
   "outputs": [
    {
     "name": "stdout",
     "output_type": "stream",
     "text": [
      "1\n",
      "6 5\n",
      "2 1 6 4 3 7\n",
      "2 3 7 3 4\n",
      "1\n",
      "1\n",
      "3\n",
      "-1\n",
      "5\n",
      "3\n"
     ]
    }
   ],
   "source": [
    "t=int(input())\n",
    "maxim=99999999999\n",
    "for _ in range(t):\n",
    "    n,m=map(int,input().split())\n",
    "    health=[0]+list(map(int,input().split()))\n",
    "    day=[0]+list(map(int,input().split()))\n",
    "    uh=[-1]*(n+1)\n",
    "    for i in range(1,m+1):\n",
    "        for j in range(i,n+1,i):\n",
    "            if(health[j]<=day[i]):\n",
    "                health[j]=maxim\n",
    "                uh[j]=i\n",
    "    for i in range(1,n+1):\n",
    "        print(uh[i])"
   ]
  }
 ],
 "metadata": {
  "kernelspec": {
   "display_name": "Python 3",
   "language": "python",
   "name": "python3"
  },
  "language_info": {
   "codemirror_mode": {
    "name": "ipython",
    "version": 3
   },
   "file_extension": ".py",
   "mimetype": "text/x-python",
   "name": "python",
   "nbconvert_exporter": "python",
   "pygments_lexer": "ipython3",
   "version": "3.7.3"
  }
 },
 "nbformat": 4,
 "nbformat_minor": 2
}
