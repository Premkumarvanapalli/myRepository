{
 "cells": [
  {
   "cell_type": "markdown",
   "metadata": {},
   "source": [
    "# Special Number\n",
    " - which has atleast Prime Factors\n"
   ]
  },
  {
   "cell_type": "code",
   "execution_count": 96,
   "metadata": {},
   "outputs": [],
   "source": [
    "from math import sqrt\n",
    "def prime(n):\n",
    "    primes=[]\n",
    "    for i in range(2,n+1):\n",
    "        flag=1\n",
    "        for j in range(2,int(sqrt(n)+1)):\n",
    "            if(i%j==0):\n",
    "                flag=0\n",
    "                break\n",
    "        if(flag==1):\n",
    "            print(\"append\",i)\n",
    "            primes.append(i)\n",
    "    print(primes)"
   ]
  },
  {
   "cell_type": "code",
   "execution_count": 97,
   "metadata": {},
   "outputs": [],
   "source": [
    "primeNumbers(30)"
   ]
  },
  {
   "cell_type": "code",
   "execution_count": 81,
   "metadata": {},
   "outputs": [
    {
     "name": "stdout",
     "output_type": "stream",
     "text": [
      "1 2\n",
      "1\n",
      "\n",
      "Number 1\n"
     ]
    }
   ],
   "source": [
    "n,p=map(int,input().split())\n",
    "li=[]\n",
    "maxim=0\n",
    "for i in range(n):\n",
    "    li.append(int(input()))\n",
    "    if(li[i]>maxim):\n",
    "        maxim=li[i]\n",
    "primes=prime(maxim)\n",
    "print(*primes)\n",
    "for i in li:\n",
    "    count=0\n",
    "    print(\"Number\",i)\n",
    "    for pr in primes:\n",
    "        if(i%pr==0):\n",
    "            count+=1\n",
    "            print('Count INcremented')\n",
    "        if(count==p):\n",
    "            break\n",
    "    if(count==p):\n",
    "        print(i)\n"
   ]
  },
  {
   "cell_type": "code",
   "execution_count": 12,
   "metadata": {},
   "outputs": [
    {
     "data": {
      "text/plain": [
       "0"
      ]
     },
     "execution_count": 12,
     "metadata": {},
     "output_type": "execute_result"
    }
   ],
   "source": []
  }
 ],
 "metadata": {
  "kernelspec": {
   "display_name": "Python 3",
   "language": "python",
   "name": "python3"
  },
  "language_info": {
   "codemirror_mode": {
    "name": "ipython",
    "version": 3
   },
   "file_extension": ".py",
   "mimetype": "text/x-python",
   "name": "python",
   "nbconvert_exporter": "python",
   "pygments_lexer": "ipython3",
   "version": "3.7.1"
  }
 },
 "nbformat": 4,
 "nbformat_minor": 2
}
