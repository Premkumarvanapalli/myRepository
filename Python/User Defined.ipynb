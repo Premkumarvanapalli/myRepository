{
 "cells": [
  {
   "cell_type": "code",
   "execution_count": 1,
   "metadata": {},
   "outputs": [
    {
     "name": "stdout",
     "output_type": "stream",
     "text": [
      "Enter a Number :12\n",
      "12\n"
     ]
    }
   ],
   "source": [
    "#Reading input from User\n",
    "name=input(\"Enter a Number :\")\n",
    "try:\n",
    "    print(int(name))\n",
    "except:\n",
    "    pass"
   ]
  },
  {
   "cell_type": "code",
   "execution_count": 2,
   "metadata": {},
   "outputs": [
    {
     "name": "stdout",
     "output_type": "stream",
     "text": [
      "Enter first Name :prem\n",
      "Enter Last Namekumar\n",
      "prem kumar\n",
      "kumar prem\n"
     ]
    }
   ],
   "source": [
    "# Names\n",
    "fname =input(\"Enter first Name :\")\n",
    "lname =input(\"Enter Last Name\")\n",
    "print(fname+\" \"+lname)\n",
    "print(lname+\" \"+fname)"
   ]
  },
  {
   "cell_type": "code",
   "execution_count": 3,
   "metadata": {},
   "outputs": [
    {
     "name": "stdout",
     "output_type": "stream",
     "text": [
      "Enter Number a1\n",
      "Enter Number b2\n",
      "3\n"
     ]
    }
   ],
   "source": [
    "# take two numbers from keyboard\n",
    "a=int(input(\"Enter Number a\"))\n",
    "b=int(input(\"Enter Number b\"))\n",
    "print(a+b)"
   ]
  },
  {
   "cell_type": "code",
   "execution_count": 12,
   "metadata": {},
   "outputs": [
    {
     "name": "stdout",
     "output_type": "stream",
     "text": [
      "Enter Number : 11\n",
      "hello hello hello hello hello hello hello hello hello hello hello \n"
     ]
    }
   ],
   "source": [
    "n=int(input(\"Enter Number : \"))\n",
    "print(\"hello \"*n)"
   ]
  },
  {
   "cell_type": "code",
   "execution_count": 15,
   "metadata": {},
   "outputs": [
    {
     "name": "stdout",
     "output_type": "stream",
     "text": [
      "3\n",
      "Odd\n"
     ]
    }
   ],
   "source": [
    "#Even or Odd\n",
    "print(\"Even\")if(int(input())%2==0)else print(\"Odd\")"
   ]
  },
  {
   "cell_type": "code",
   "execution_count": 17,
   "metadata": {},
   "outputs": [
    {
     "name": "stdout",
     "output_type": "stream",
     "text": [
      "4\n",
      "Positive\n"
     ]
    }
   ],
   "source": [
    "#Positive or Odd or 0\n",
    "n=int(input())\n",
    "if(n>0):\n",
    "    print(\"Positive\")\n",
    "elif(n<0):\n",
    "    print(\"Negative\")\n",
    "else:\n",
    "    print(\"Zero\")"
   ]
  },
  {
   "cell_type": "code",
   "execution_count": 4,
   "metadata": {},
   "outputs": [
    {
     "name": "stdout",
     "output_type": "stream",
     "text": [
      "21\n",
      "Odd and Mul of 7\n"
     ]
    }
   ],
   "source": [
    "#Check even and mul of 8 OR odd and mul of 7\n",
    "n=int(input())\n",
    "if(n%2==0 and n%8==0):\n",
    "    print(\"Even and Mul of 8\")\n",
    "elif(n%7==0):\n",
    "    print(\"Odd and Mul of 7\")\n",
    "else:\n",
    "    print(\"Unknown\")"
   ]
  },
  {
   "cell_type": "code",
   "execution_count": null,
   "metadata": {},
   "outputs": [],
   "source": []
  },
  {
   "cell_type": "code",
   "execution_count": null,
   "metadata": {},
   "outputs": [],
   "source": []
  }
 ],
 "metadata": {
  "kernelspec": {
   "display_name": "Python 3",
   "language": "python",
   "name": "python3"
  },
  "language_info": {
   "codemirror_mode": {
    "name": "ipython",
    "version": 3
   },
   "file_extension": ".py",
   "mimetype": "text/x-python",
   "name": "python",
   "nbconvert_exporter": "python",
   "pygments_lexer": "ipython3",
   "version": "3.7.1"
  }
 },
 "nbformat": 4,
 "nbformat_minor": 2
}
