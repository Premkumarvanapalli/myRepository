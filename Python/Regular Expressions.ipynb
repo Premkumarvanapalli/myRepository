{
 "cells": [
  {
   "cell_type": "markdown",
   "metadata": {},
   "source": [
    "# Regular Expression"
   ]
  },
  {
   "cell_type": "markdown",
   "metadata": {},
   "source": [
    "## package\n",
    "**re**"
   ]
  },
  {
   "cell_type": "markdown",
   "metadata": {},
   "source": [
    "### Ex\n",
    "import re"
   ]
  },
  {
   "cell_type": "markdown",
   "metadata": {},
   "source": [
    "### Methods\n",
    "**search(pattern,variable)**\n",
    "\n",
    "**match(pattern,variable)**\n",
    "\n",
    "\n",
    "**findall(pattern,variable)**"
   ]
  },
  {
   "cell_type": "code",
   "execution_count": 2,
   "metadata": {},
   "outputs": [],
   "source": [
    "import re"
   ]
  },
  {
   "cell_type": "markdown",
   "metadata": {},
   "source": [
    "## Search\n",
    "`Return None if Not found else return match object`"
   ]
  },
  {
   "cell_type": "code",
   "execution_count": 23,
   "metadata": {},
   "outputs": [
    {
     "name": "stdout",
     "output_type": "stream",
     "text": [
      "<re.Match object; span=(1, 2), match='y'>\n",
      "None\n",
      "None\n",
      "<re.Match object; span=(0, 0), match=''>\n",
      "<re.Match object; span=(0, 0), match=''>\n",
      "<re.Match object; span=(1, 6), match='ython'>\n"
     ]
    }
   ],
   "source": [
    "name=\"Python\"\n",
    "print(re.search(r'[a-z]',name))\n",
    "print(re.search(r'^[a-z]',name))\n",
    "print(re.search(r'^[a-z]+',name))\n",
    "print(re.search(r'[a-z]*',name))\n",
    "print(re.search(r'^[a-z]*',name))\n",
    "print(re.search(r'[a-z]+',name))"
   ]
  },
  {
   "cell_type": "markdown",
   "metadata": {},
   "source": [
    "## match\n",
    "`checks from starting`"
   ]
  },
  {
   "cell_type": "code",
   "execution_count": 24,
   "metadata": {},
   "outputs": [
    {
     "name": "stdout",
     "output_type": "stream",
     "text": [
      "<re.Match object; span=(0, 4), match='prem'>\n"
     ]
    }
   ],
   "source": [
    "name='premKumar'\n",
    "print(re.match(r'[a-z]+',name))"
   ]
  },
  {
   "cell_type": "markdown",
   "metadata": {},
   "source": [
    "## findall"
   ]
  },
  {
   "cell_type": "code",
   "execution_count": 31,
   "metadata": {},
   "outputs": [
    {
     "name": "stdout",
     "output_type": "stream",
     "text": [
      "['vasavi', 'prem', 'umar']\n",
      "['vasavi']\n"
     ]
    }
   ],
   "source": [
    "name=\"vasavi premKumar\"\n",
    "print(re.findall(r'[a-z]+',name))\n",
    "print(re.findall(r'^[a-z]+',name))"
   ]
  },
  {
   "cell_type": "markdown",
   "metadata": {},
   "source": [
    "## Task\n",
    "**By using regular expression find the names in a list which has character a**"
   ]
  },
  {
   "cell_type": "code",
   "execution_count": 41,
   "metadata": {},
   "outputs": [
    {
     "name": "stdout",
     "output_type": "stream",
     "text": [
      "vasu\n",
      "kumar\n"
     ]
    }
   ],
   "source": [
    "names=['vasu','ede','prem','kumar']\n",
    "for name in names:\n",
    "    if(re.search(r'a',name)):\n",
    "        print(name)"
   ]
  },
  {
   "cell_type": "code",
   "execution_count": 48,
   "metadata": {},
   "outputs": [
    {
     "name": "stdout",
     "output_type": "stream",
     "text": [
      "[ A,     ASCII,     DEBUG,     DOTALL,     I,     IGNORECASE,     L,     LOCALE,     M,     MULTILINE,     Match,     Pattern,     RegexFlag,     S,     Scanner,     T,     TEMPLATE,     U,     UNICODE,     VERBOSE,     X,     _MAXCACHE,     __all__,     __builtins__,     __cached__,     __doc__,     __file__,     __loader__,     __name__,     __package__,     __spec__,     __version__,     _cache,     _compile,     _compile_repl,     _expand,     _locale,     _pickle,     _special_chars_map,     _subx,     compile,     copyreg,     enum,     error,     escape,     findall,     finditer,     fullmatch,     functools,     match,     purge,     search,     split,     sre_compile,     sre_parse,     sub,     subn,     template\n"
     ]
    }
   ],
   "source": [
    "print('[',',     '.join(dir(re)))"
   ]
  },
  {
   "cell_type": "markdown",
   "metadata": {},
   "source": [
    "### Special characters in regular expression pattern"
   ]
  },
  {
   "cell_type": "markdown",
   "metadata": {},
   "source": [
    "## . Dot\n",
    "   - any single character"
   ]
  },
  {
   "cell_type": "code",
   "execution_count": 54,
   "metadata": {},
   "outputs": [
    {
     "name": "stdout",
     "output_type": "stream",
     "text": [
      "<re.Match object; span=(0, 3), match='pre'>\n",
      "['pre', 'm.k', 'uma', 'r.v', 'asa']\n"
     ]
    }
   ],
   "source": [
    "print(re.search('...','prem.kumar.vasavi'))\n",
    "print(re.findall('...','prem.kumar.vasavi'))"
   ]
  },
  {
   "cell_type": "markdown",
   "metadata": {},
   "source": [
    "## ^ Start\n",
    ">Starts with"
   ]
  },
  {
   "cell_type": "code",
   "execution_count": 65,
   "metadata": {},
   "outputs": [
    {
     "name": "stdout",
     "output_type": "stream",
     "text": [
      "['P']\n"
     ]
    }
   ],
   "source": [
    "name='PremKumar'\n",
    "print(re.findall('^.',name))"
   ]
  },
  {
   "cell_type": "markdown",
   "metadata": {},
   "source": [
    "## Task\n",
    ">Print strings which has length 6"
   ]
  },
  {
   "cell_type": "code",
   "execution_count": 77,
   "metadata": {},
   "outputs": [
    {
     "name": "stdout",
     "output_type": "stream",
     "text": [
      "mango\n",
      "mango\n",
      "mango\n",
      "mango\n"
     ]
    }
   ],
   "source": [
    "fruits=['apple','orange','grapes','mango']\n",
    "for fruit in fruits:\n",
    "    if(re.match('.....',i)):\n",
    "        print(i) # Gives string which has length more than 6"
   ]
  },
  {
   "cell_type": "code",
   "execution_count": 80,
   "metadata": {},
   "outputs": [
    {
     "name": "stdout",
     "output_type": "stream",
     "text": [
      "Which has length 6\n",
      "orange\n",
      "grapes\n",
      "Which has length 5\n",
      "apple\n",
      "mango\n"
     ]
    }
   ],
   "source": [
    "print(\"Which has length 6\")\n",
    "for fruit in fruits:\n",
    "    if(re.match('......$',fruit)):\n",
    "        print(fruit)\n",
    "print(\"Which has length 5\")\n",
    "for fruit in fruits:\n",
    "    if(re.match('.{5}$',fruit)):\n",
    "        print(fruit)\n"
   ]
  },
  {
   "cell_type": "code",
   "execution_count": 95,
   "metadata": {},
   "outputs": [
    {
     "name": "stdout",
     "output_type": "stream",
     "text": [
      "<re.Match object; span=(2, 7), match='34567'>\n",
      "<re.Match object; span=(0, 5), match='12345'>\n",
      "<re.Match object; span=(2, 7), match='34567'>\n",
      "None\n"
     ]
    }
   ],
   "source": [
    "print(re.search('.{3,5}$','1234567')) # Takes whole\n",
    "print(re.search('^.{3,5}','1234567')) # Takes from start index\n",
    "print(re.search('.{3,5}$','1234567')) # Takes from last index\n",
    "print(re.search('^.{3,5}$','123456')) # Length of 3 to 5"
   ]
  },
  {
   "cell_type": "markdown",
   "metadata": {},
   "source": [
    "### Group"
   ]
  },
  {
   "cell_type": "code",
   "execution_count": 149,
   "metadata": {},
   "outputs": [
    {
     "name": "stdout",
     "output_type": "stream",
     "text": [
      " prem\n"
     ]
    }
   ],
   "source": [
    "result=re.search('.{4}$','premvasu')\n",
    "print(result.group())"
   ]
  },
  {
   "cell_type": "markdown",
   "metadata": {},
   "source": [
    "## \\d digits"
   ]
  },
  {
   "cell_type": "code",
   "execution_count": 113,
   "metadata": {
    "scrolled": true
   },
   "outputs": [
    {
     "name": "stdout",
     "output_type": "stream",
     "text": [
      "<re.Match object; span=(4, 5), match='1'>\n",
      "None\n",
      "<re.Match object; span=(6, 7), match='3'>\n"
     ]
    }
   ],
   "source": [
    "print(re.search('\\d','prem123'))\n",
    "print(re.search('^\\d','prem123'))\n",
    "print(re.search('\\d$','prem123'))"
   ]
  },
  {
   "cell_type": "markdown",
   "metadata": {},
   "source": [
    "## \\D Other than Digits"
   ]
  },
  {
   "cell_type": "code",
   "execution_count": 117,
   "metadata": {},
   "outputs": [
    {
     "name": "stdout",
     "output_type": "stream",
     "text": [
      "<re.Match object; span=(0, 1), match='p'>\n",
      "<re.Match object; span=(0, 1), match='p'>\n",
      "None\n"
     ]
    }
   ],
   "source": [
    "print(re.search('\\D','prem123'))\n",
    "print(re.search('^\\D','prem123'))\n",
    "print(re.search('\\D$','prem123'))"
   ]
  },
  {
   "cell_type": "markdown",
   "metadata": {},
   "source": [
    "## Find mobile Numbers in a list"
   ]
  },
  {
   "cell_type": "code",
   "execution_count": 122,
   "metadata": {},
   "outputs": [
    {
     "name": "stdout",
     "output_type": "stream",
     "text": [
      "9876543210\n",
      "6789012345\n"
     ]
    }
   ],
   "source": [
    "mobiles=['1234567890','9876543210','6789012345','234567890123']\n",
    "for mobile in mobiles:\n",
    "    if(re.search('^[6-9]\\d{9}$',mobile)):\n",
    "        print(mobile)"
   ]
  },
  {
   "cell_type": "code",
   "execution_count": 123,
   "metadata": {},
   "outputs": [
    {
     "data": {
      "text/plain": [
       "<re.Match object; span=(0, 6), match='python'>"
      ]
     },
     "execution_count": 123,
     "metadata": {},
     "output_type": "execute_result"
    }
   ],
   "source": [
    "re.search('^p.*n$','python')"
   ]
  },
  {
   "cell_type": "code",
   "execution_count": 129,
   "metadata": {},
   "outputs": [
    {
     "data": {
      "text/plain": [
       "<re.Match object; span=(0, 0), match=''>"
      ]
     },
     "execution_count": 129,
     "metadata": {},
     "output_type": "execute_result"
    }
   ],
   "source": [
    "re.search('a*',\"aapremaaa\")"
   ]
  },
  {
   "cell_type": "code",
   "execution_count": 130,
   "metadata": {},
   "outputs": [
    {
     "data": {
      "text/plain": [
       "<re.Match object; span=(3, 6), match='aaa'>"
      ]
     },
     "execution_count": 130,
     "metadata": {},
     "output_type": "execute_result"
    }
   ],
   "source": [
    "re.search('a+','remaaaqaa')"
   ]
  },
  {
   "cell_type": "markdown",
   "metadata": {},
   "source": [
    "## email"
   ]
  },
  {
   "cell_type": "code",
   "execution_count": 140,
   "metadata": {},
   "outputs": [
    {
     "name": "stdout",
     "output_type": "stream",
     "text": [
      "prem@gmail.com\n",
      "prem123@gmail.com\n"
     ]
    }
   ],
   "source": [
    "emails=['prem@gmail.com','prem123@gmail.com','prem 123@gmail.com']\n",
    "for email in emails:\n",
    "    if(re.search('^[a-zA-Z0-9]+@[a-zA-Za-z]+\\.[a-z]{2,4}$',email)):\n",
    "        print(email)"
   ]
  },
  {
   "cell_type": "markdown",
   "metadata": {},
   "source": [
    "### \\s Space\n",
    "### \\w Underscore"
   ]
  },
  {
   "cell_type": "code",
   "execution_count": 6,
   "metadata": {},
   "outputs": [
    {
     "name": "stdout",
     "output_type": "stream",
     "text": [
      "582\n"
     ]
    }
   ],
   "source": [
    "data=\"\"\"\n",
    "prem 123\n",
    "vasu 143\n",
    "kumar 153\n",
    "ede 163\n",
    "\"\"\"\n",
    "result=re.findall('\\d+',data)\n",
    "result=[int(i) for i in result]\n",
    "print(sum(result))"
   ]
  },
  {
   "cell_type": "code",
   "execution_count": null,
   "metadata": {},
   "outputs": [],
   "source": []
  }
 ],
 "metadata": {
  "kernelspec": {
   "display_name": "Python 3",
   "language": "python",
   "name": "python3"
  },
  "language_info": {
   "codemirror_mode": {
    "name": "ipython",
    "version": 3
   },
   "file_extension": ".py",
   "mimetype": "text/x-python",
   "name": "python",
   "nbconvert_exporter": "python",
   "pygments_lexer": "ipython3",
   "version": "3.7.1"
  }
 },
 "nbformat": 4,
 "nbformat_minor": 2
}
