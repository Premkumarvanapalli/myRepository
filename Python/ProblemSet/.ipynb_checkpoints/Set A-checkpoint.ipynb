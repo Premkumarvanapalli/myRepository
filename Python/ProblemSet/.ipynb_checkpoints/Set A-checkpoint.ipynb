{
 "cells": [
  {
   "cell_type": "code",
   "execution_count": 2,
   "metadata": {},
   "outputs": [
    {
     "name": "stdout",
     "output_type": "stream",
     "text": [
      "11\n",
      "Odd\n"
     ]
    }
   ],
   "source": [
    "#1 Find Even or Odd\n",
    "n=int(input())\n",
    "print(\"Even\")if(n%2==0)else print(\"Odd\")"
   ]
  },
  {
   "cell_type": "code",
   "execution_count": 11,
   "metadata": {},
   "outputs": [
    {
     "name": "stdout",
     "output_type": "stream",
     "text": [
      "10\n",
      "34\n"
     ]
    }
   ],
   "source": [
    "#2 Nth Fibanocci Number\n",
    "a=0\n",
    "b=1\n",
    "n=int(input())\n",
    "for i in range(n-1):\n",
    "    t=a+b\n",
    "    b=a\n",
    "    a=t\n",
    "print(a)"
   ]
  },
  {
   "cell_type": "code",
   "execution_count": 28,
   "metadata": {},
   "outputs": [],
   "source": [
    "# Method to find Prime Number\n",
    "from math import sqrt\n",
    "def prime(a):\n",
    "    end=int(sqrt(a))+1\n",
    "    for i in range(2,end):\n",
    "        if(a%2==0):\n",
    "            return False\n",
    "    return True"
   ]
  },
  {
   "cell_type": "code",
   "execution_count": 31,
   "metadata": {},
   "outputs": [
    {
     "name": "stdout",
     "output_type": "stream",
     "text": [
      "Enter Number :1\n",
      "Enter Number :20\n",
      "2 3 5 7 9 11 13 15 17 19 "
     ]
    }
   ],
   "source": [
    "#3 Prime Number Between Range\n",
    "a=int(input(\"Enter Number :\"))\n",
    "b=int(input(\"Enter Number :\"))\n",
    "if(a>b):\n",
    "    a,b=b,a\n",
    "for i in range(a,b):\n",
    "    if(i==2):\n",
    "        print(i,end=' ')\n",
    "    elif(i>2):\n",
    "        if(prime(i)):\n",
    "            print(i,end=' ')"
   ]
  },
  {
   "cell_type": "code",
   "execution_count": 34,
   "metadata": {},
   "outputs": [
    {
     "name": "stdout",
     "output_type": "stream",
     "text": [
      "premerp\n",
      "Palindrome\n"
     ]
    }
   ],
   "source": [
    "#4 String Palindrome\n",
    "s=input()\n",
    "print(\"Palindrome\")if(s==s[::-1])else print(\"Not Palindrome\")"
   ]
  },
  {
   "cell_type": "code",
   "execution_count": 8,
   "metadata": {},
   "outputs": [
    {
     "name": "stdout",
     "output_type": "stream",
     "text": [
      "Enter a Number :6\n",
      "Perfect Number\n"
     ]
    }
   ],
   "source": [
    "#5 Perfect Number\n",
    "n=int(input(\"Enter a Number :\"))\n",
    "total=1\n",
    "for i in range(2,n//2+1):\n",
    "    if(n%i==0):\n",
    "        total=total+i\n",
    "print(\"Perfect Number\")if(total==n)else print(\"Not a Perfect Number\")"
   ]
  },
  {
   "cell_type": "code",
   "execution_count": 17,
   "metadata": {},
   "outputs": [
    {
     "name": "stdout",
     "output_type": "stream",
     "text": [
      "1 2 3 4\n",
      "1 4 9 16 "
     ]
    }
   ],
   "source": [
    "#6 Squares of Array Values\n",
    "a=list(input(\"Enter list of Numbers: \").split())\n",
    "for i in a:\n",
    "    print(int(i)**2,end=' ')"
   ]
  },
  {
   "cell_type": "code",
   "execution_count": 19,
   "metadata": {},
   "outputs": [
    {
     "name": "stdout",
     "output_type": "stream",
     "text": [
      "Enter a Number :-6\n",
      "6\n"
     ]
    }
   ],
   "source": [
    "#7 Absolute Value\n",
    "n=int(input(\"Enter a Number :\"))\n",
    "print(-n) if(n<0)else print(n)"
   ]
  },
  {
   "cell_type": "code",
   "execution_count": 26,
   "metadata": {},
   "outputs": [
    {
     "name": "stdout",
     "output_type": "stream",
     "text": [
      "Enter a Number: 29\n",
      "Special Number\n"
     ]
    }
   ],
   "source": [
    "#8 Special Number - Sum of digits sum and product\n",
    "n=input(\"Enter a Number: \")\n",
    "dsum=0\n",
    "dpro=1\n",
    "for i in n:\n",
    "    dsum=dsum+int(i)\n",
    "    dpro=dpro*int(i)\n",
    "print(\"Special Number\")if(dsum+dpro==int(n))else print(\"Not a Special Number\")"
   ]
  },
  {
   "cell_type": "code",
   "execution_count": null,
   "metadata": {},
   "outputs": [],
   "source": []
  },
  {
   "cell_type": "code",
   "execution_count": null,
   "metadata": {},
   "outputs": [],
   "source": []
  }
 ],
 "metadata": {
  "kernelspec": {
   "display_name": "Python 3",
   "language": "python",
   "name": "python3"
  },
  "language_info": {
   "codemirror_mode": {
    "name": "ipython",
    "version": 3
   },
   "file_extension": ".py",
   "mimetype": "text/x-python",
   "name": "python",
   "nbconvert_exporter": "python",
   "pygments_lexer": "ipython3",
   "version": "3.7.1"
  }
 },
 "nbformat": 4,
 "nbformat_minor": 2
}
