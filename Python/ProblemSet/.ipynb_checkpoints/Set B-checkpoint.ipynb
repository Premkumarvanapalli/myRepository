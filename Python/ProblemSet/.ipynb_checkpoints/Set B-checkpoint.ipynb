{
 "cells": [
  {
   "cell_type": "code",
   "execution_count": 1,
   "metadata": {},
   "outputs": [
    {
     "name": "stdout",
     "output_type": "stream",
     "text": [
      "4\n",
      "10\n"
     ]
    }
   ],
   "source": [
    "#1 Sum of N natural Numbers\n",
    "n=int(input())\n",
    "total=0\n",
    "for i in range(1,n+1):\n",
    "    total=total+i\n",
    "print(total)"
   ]
  },
  {
   "cell_type": "code",
   "execution_count": 2,
   "metadata": {},
   "outputs": [
    {
     "name": "stdout",
     "output_type": "stream",
     "text": [
      "Enter a Number :1\n",
      "Enter a Number :2\n",
      "2 1\n"
     ]
    }
   ],
   "source": [
    "#2 Swap two numbers\n",
    "a=int(input(\"Enter a Number :\"))\n",
    "b=int(input(\"Enter a Number :\"))\n",
    "a,b=b,a\n",
    "print(a,b)"
   ]
  },
  {
   "cell_type": "code",
   "execution_count": 3,
   "metadata": {},
   "outputs": [
    {
     "name": "stdout",
     "output_type": "stream",
     "text": [
      "prem kumar\n",
      "  1 ,e 1 ,m 2 ,p 1 ,u 1 ,r 2 ,k 1 ,a 1 ,"
     ]
    }
   ],
   "source": [
    "#3 Character Count\n",
    "n=input()\n",
    "a=set(n)\n",
    "for i in a:\n",
    "    print(i,n.count(i),end=' ,')\n",
    "    "
   ]
  },
  {
   "cell_type": "code",
   "execution_count": 9,
   "metadata": {},
   "outputs": [
    {
     "name": "stdout",
     "output_type": "stream",
     "text": [
      "1 ! :  1\n",
      "2 ! :  2\n",
      "3 ! :  6\n",
      "4 ! :  24\n",
      "5 ! :  120\n",
      "6 ! :  720\n",
      "7 ! :  5040\n"
     ]
    }
   ],
   "source": [
    "#4 Factorials of a Number 1 to 7\n",
    "def Factorial(n):\n",
    "    if(n>1):\n",
    "        return n*Factorial(n-1)\n",
    "    return 1\n",
    "for i in range(1,8):\n",
    "    print(i,'! : ',Factorial(i))"
   ]
  },
  {
   "cell_type": "code",
   "execution_count": null,
   "metadata": {},
   "outputs": [],
   "source": []
  }
 ],
 "metadata": {
  "kernelspec": {
   "display_name": "Python 3",
   "language": "python",
   "name": "python3"
  },
  "language_info": {
   "codemirror_mode": {
    "name": "ipython",
    "version": 3
   },
   "file_extension": ".py",
   "mimetype": "text/x-python",
   "name": "python",
   "nbconvert_exporter": "python",
   "pygments_lexer": "ipython3",
   "version": "3.7.1"
  }
 },
 "nbformat": 4,
 "nbformat_minor": 2
}
