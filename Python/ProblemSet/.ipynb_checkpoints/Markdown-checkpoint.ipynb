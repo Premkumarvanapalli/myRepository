{
 "cells": [
  {
   "cell_type": "markdown",
   "metadata": {},
   "source": [
    "# Title\n",
    "## Title\n",
    "### Title\n"
   ]
  },
  {
   "cell_type": "markdown",
   "metadata": {},
   "source": [
    "# use Hash(# ) for Title\n",
    "## font size is depend on No of Hash(#) Symbols"
   ]
  },
  {
   "cell_type": "markdown",
   "metadata": {},
   "source": [
    "To write text as **BOlD** and __BOLD__ use double * or double _ at starting and ending or word"
   ]
  },
  {
   "cell_type": "markdown",
   "metadata": {},
   "source": [
    "To write text as *italic* and _italic_"
   ]
  },
  {
   "cell_type": "markdown",
   "metadata": {},
   "source": [
    "# Ordered List\n",
    "1. list 1\n",
    "2. List 2\n"
   ]
  },
  {
   "cell_type": "markdown",
   "metadata": {},
   "source": [
    "# Unordered List\n",
    "- line 1\n",
    "- line 2"
   ]
  },
  {
   "cell_type": "markdown",
   "metadata": {},
   "source": [
    "# List with sublines\n",
    "1. lint 1\n",
    "    - subline 1\n",
    "    - suline 2\n",
    "2. line 2\n",
    "    - subline 1\n",
    "    - subline 2\n",
    "    - subline 3\n",
    "* line 1\n",
    "    * subline 1\n",
    "    * subline 2\n",
    "- line 1\n",
    "    - subline 1\n",
    "    - subline 2"
   ]
  },
  {
   "cell_type": "markdown",
   "metadata": {},
   "source": [
    "# To make markdown press ESC+m\n",
    "# To back to code Esc+y\n",
    "# To create a cell at above ESC+a\n",
    "# To create a cell at below ESC+b"
   ]
  },
  {
   "cell_type": "markdown",
   "metadata": {},
   "source": [
    "# Questions check box\n",
    "- [x] Question 1\n",
    "- [ ] Question 2\n"
   ]
  },
  {
   "cell_type": "markdown",
   "metadata": {},
   "source": [
    "*abs*\n",
    "\n",
    "\\*Escape use \\\\* to show *"
   ]
  },
  {
   "cell_type": "markdown",
   "metadata": {},
   "source": [
    "[links] www.google.com\n",
    "\n",
    "**use \"[links] URL\"for urls**"
   ]
  },
  {
   "cell_type": "markdown",
   "metadata": {},
   "source": [
    "### use > symbols for blockquotes\n",
    "> blockquote"
   ]
  },
  {
   "cell_type": "code",
   "execution_count": null,
   "metadata": {},
   "outputs": [],
   "source": []
  }
 ],
 "metadata": {
  "kernelspec": {
   "display_name": "Python 3",
   "language": "python",
   "name": "python3"
  },
  "language_info": {
   "codemirror_mode": {
    "name": "ipython",
    "version": 3
   },
   "file_extension": ".py",
   "mimetype": "text/x-python",
   "name": "python",
   "nbconvert_exporter": "python",
   "pygments_lexer": "ipython3",
   "version": "3.7.1"
  }
 },
 "nbformat": 4,
 "nbformat_minor": 2
}
