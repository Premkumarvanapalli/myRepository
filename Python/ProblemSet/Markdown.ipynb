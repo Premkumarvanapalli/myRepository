{
 "cells": [
  {
   "cell_type": "markdown",
   "metadata": {},
   "source": [
    "# Title\n",
    "## Title\n",
    "### Title\n"
   ]
  },
  {
   "cell_type": "markdown",
   "metadata": {},
   "source": [
    "# use Hash(# ) for Title\n",
    "## font size is depend on No of Hash(#) Symbols"
   ]
  },
  {
   "cell_type": "markdown",
   "metadata": {},
   "source": [
    "To write text as **BOlD** and __BOLD__ use double * or double _ at starting and ending or word"
   ]
  },
  {
   "cell_type": "markdown",
   "metadata": {},
   "source": [
    "To write text as *italic* and _italic_"
   ]
  },
  {
   "cell_type": "markdown",
   "metadata": {},
   "source": [
    "# Ordered List\n",
    "1. list 1\n",
    "2. List 2\n"
   ]
  },
  {
   "cell_type": "markdown",
   "metadata": {},
   "source": [
    "# Unordered List\n",
    "- line 1\n",
    "- line 2"
   ]
  },
  {
   "cell_type": "markdown",
   "metadata": {},
   "source": [
    "# List with sublines\n",
    "1. lint 1\n",
    "    - subline 1\n",
    "    - suline 2\n",
    "2. line 2\n",
    "    - subline 1\n",
    "    - subline 2\n",
    "    - subline 3\n",
    "* line 1\n",
    "    * subline 1\n",
    "    * subline 2\n",
    "- line 1\n",
    "    - subline 1\n",
    "    - subline 2"
   ]
  },
  {
   "cell_type": "markdown",
   "metadata": {},
   "source": [
    "# To make markdown press ESC+m\n",
    "# To back to code Esc+y\n",
    "# To create a cell at above ESC+a\n",
    "# To create a cell at below ESC+b"
   ]
  },
  {
   "cell_type": "markdown",
   "metadata": {},
   "source": [
    "# Questions check box\n",
    "- [x] Question 1\n",
    "- [ ] Question 2\n"
   ]
  },
  {
   "cell_type": "markdown",
   "metadata": {},
   "source": [
    "*abs*\n",
    "\n",
    "\\*Escape use \\\\* to show *"
   ]
  },
  {
   "cell_type": "markdown",
   "metadata": {},
   "source": [
    "[Link_Title] www.google.com\n",
    "\n",
    "**use \"[Link_Title] URL\"for urls**"
   ]
  },
  {
   "cell_type": "markdown",
   "metadata": {},
   "source": [
    "### use > symbols for blockquotes\n",
    ">blockquote"
   ]
  },
  {
   "cell_type": "markdown",
   "metadata": {},
   "source": [
    "`code`\n",
    "can be written using \\`code\\`"
   ]
  },
  {
   "cell_type": "markdown",
   "metadata": {},
   "source": [
    "---\n",
    "use \\-\\-\\- for horizontal Rule"
   ]
  },
  {
   "cell_type": "markdown",
   "metadata": {},
   "source": [
    "![alt image](me.png)\n",
    "**Image can be taken by using code** \\!\\[alt text\\]\\(image Path\\)"
   ]
  },
  {
   "cell_type": "markdown",
   "metadata": {},
   "source": [
    "|First Name|Last Name|\n",
    "| - | - |\n",
    "| Header | Title |\n",
    "| Paragraph | Text |\n",
    "\n",
    "## For Table\n",
    "\n",
    "|text|text|\n",
    "\n",
    "\\|\\-\\|\\-\\|\n",
    "\n",
    "|text|text|"
   ]
  },
  {
   "cell_type": "markdown",
   "metadata": {},
   "source": [
    "## Fenced codeblock\n",
    "```\n",
    "{\n",
    "    \"First Name\" : \"prem\"\n",
    "    \"Id\" : 140577\n",
    "}\n",
    "```"
   ]
  },
  {
   "cell_type": "markdown",
   "metadata": {},
   "source": [
    "Here's a sentence with a footnote. [^1]\n",
    "\n",
    "[^1]: This is the footnote."
   ]
  },
  {
   "cell_type": "markdown",
   "metadata": {},
   "source": [
    "## Heading ID\n",
    "## Heading ID {# id}"
   ]
  },
  {
   "cell_type": "markdown",
   "metadata": {},
   "source": [
    "term\n",
    ": Defintion for the Term"
   ]
  },
  {
   "cell_type": "markdown",
   "metadata": {},
   "source": [
    "## Strike Through\n",
    "~~This is a striked Para~~"
   ]
  }
 ],
 "metadata": {
  "kernelspec": {
   "display_name": "Python 3",
   "language": "python",
   "name": "python3"
  },
  "language_info": {
   "codemirror_mode": {
    "name": "ipython",
    "version": 3
   },
   "file_extension": ".py",
   "mimetype": "text/x-python",
   "name": "python",
   "nbconvert_exporter": "python",
   "pygments_lexer": "ipython3",
   "version": "3.7.1"
  }
 },
 "nbformat": 4,
 "nbformat_minor": 2
}
