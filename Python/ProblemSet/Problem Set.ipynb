{
 "cells": [
  {
   "cell_type": "code",
   "execution_count": 11,
   "metadata": {},
   "outputs": [
    {
     "name": "stdout",
     "output_type": "stream",
     "text": [
      "Enter Minimum Number :1\n",
      "Enter Maximum Number :100\n",
      "6 12 18 24 30 36 42 48 54 60 66 72 78 84 90 96 "
     ]
    }
   ],
   "source": [
    "#1 Div by 6 and not by 100\n",
    "def six(a,b):\n",
    "    for i in range(a,b+1):\n",
    "        if(i%6==0 and i%100>0):\n",
    "            print(i,end=' ')\n",
    "a=int(input(\"Enter Minimum Number :\"))\n",
    "b=int(input(\"Enter Maximum Number :\"))\n",
    "six(a,b)"
   ]
  },
  {
   "cell_type": "markdown",
   "metadata": {},
   "source": [
    "### Function to find average of Cubes of all even Numbers"
   ]
  },
  {
   "cell_type": "code",
   "execution_count": 4,
   "metadata": {},
   "outputs": [
    {
     "name": "stdout",
     "output_type": "stream",
     "text": [
      "Enter Minimum Number :1\n",
      "Enter Maximum Number :10\n",
      "200\n"
     ]
    }
   ],
   "source": [
    "def Cubes_Average(a,b):\n",
    "    total=0\n",
    "    count=0\n",
    "    for i in range(a,b):\n",
    "        if(i%2==0):\n",
    "            total+=i**3\n",
    "            count+=1\n",
    "    return total,count\n",
    "a=int(input(\"Enter Minimum Number :\"))\n",
    "b=int(input(\"Enter Maximum Number :\"))\n",
    "t,c=Cubes_Average(a,b)\n",
    "print(t//c)"
   ]
  },
  {
   "cell_type": "markdown",
   "metadata": {},
   "source": [
    "### Function to find List of Factors"
   ]
  },
  {
   "cell_type": "code",
   "execution_count": 20,
   "metadata": {},
   "outputs": [
    {
     "name": "stdout",
     "output_type": "stream",
     "text": [
      "20\n",
      "[1, 2, 4, 5, 10]\n"
     ]
    }
   ],
   "source": [
    "def Factors(n):\n",
    "    a=[]\n",
    "    for i in range(1,n):\n",
    "        if(n%i==0):\n",
    "            a.append(i)\n",
    "    return a\n",
    "print(Factors(int(input())))"
   ]
  },
  {
   "cell_type": "markdown",
   "metadata": {},
   "source": [
    "### Function to find Factorial of Given Number"
   ]
  },
  {
   "cell_type": "code",
   "execution_count": 23,
   "metadata": {},
   "outputs": [
    {
     "name": "stdout",
     "output_type": "stream",
     "text": [
      "5\n",
      "120\n"
     ]
    }
   ],
   "source": [
    "def Factorial(n):\n",
    "    if(n>1):\n",
    "        return n*Factorial(n-1)\n",
    "    return 1\n",
    "print(Factorial(int(input())))"
   ]
  },
  {
   "cell_type": "markdown",
   "metadata": {},
   "source": [
    "### Function to find prime Number"
   ]
  },
  {
   "cell_type": "code",
   "execution_count": 31,
   "metadata": {},
   "outputs": [],
   "source": [
    "def prime(n):\n",
    "    for i in range(2,n//2+1):\n",
    "        if(n%i==0):\n",
    "            return False\n",
    "    return True"
   ]
  },
  {
   "cell_type": "code",
   "execution_count": 29,
   "metadata": {},
   "outputs": [
    {
     "name": "stdout",
     "output_type": "stream",
     "text": [
      "Enter a Number : 15\n",
      "Not Prime\n"
     ]
    }
   ],
   "source": [
    "if(prime(int(input(\"Enter a Number : \")))):\n",
    "    print(\"Prime\")\n",
    "else:\n",
    "    print(\"Not Prime\")"
   ]
  },
  {
   "cell_type": "markdown",
   "metadata": {},
   "source": [
    "### Function to calculate the average first N Prime numbers"
   ]
  },
  {
   "cell_type": "code",
   "execution_count": 35,
   "metadata": {},
   "outputs": [
    {
     "name": "stdout",
     "output_type": "stream",
     "text": [
      "Enter a Number :10\n",
      "12\n"
     ]
    }
   ],
   "source": [
    "n=int(input(\"Enter a Number :\"))\n",
    "i=0\n",
    "a=2\n",
    "total=0\n",
    "while(i<n):\n",
    "    if(prime(a)):\n",
    "        i=i+1\n",
    "        total=total+a\n",
    "    a=a+1\n",
    "print(total//n)"
   ]
  },
  {
   "cell_type": "markdown",
   "metadata": {},
   "source": [
    "### Function to generate all Perfect numbers in a given range"
   ]
  },
  {
   "cell_type": "code",
   "execution_count": 41,
   "metadata": {
    "scrolled": true
   },
   "outputs": [
    {
     "name": "stdout",
     "output_type": "stream",
     "text": [
      "Enter a Number :1\n",
      "Enter a Number :100\n",
      "[6, 28]\n"
     ]
    }
   ],
   "source": [
    "def perfect(n):\n",
    "    s=0\n",
    "    for i in range(1,n):\n",
    "        if(n%i==0):\n",
    "            s=s+i\n",
    "    if(s==n):\n",
    "        return True\n",
    "    return False\n",
    "def inRange(a,b):\n",
    "    li=[]\n",
    "    for i in range(a,b+1):\n",
    "        if(perfect(i)):\n",
    "            li.append(i)\n",
    "    return li\n",
    "print(inRange(int(input(\"Enter a Number :\")),int(input(\"Enter a Number :\"))))"
   ]
  },
  {
   "cell_type": "markdown",
   "metadata": {},
   "source": [
    "# Advanced Problem Set"
   ]
  },
  {
   "cell_type": "markdown",
   "metadata": {},
   "source": [
    "### Average of all factorials in a Given Range"
   ]
  },
  {
   "cell_type": "code",
   "execution_count": 54,
   "metadata": {},
   "outputs": [
    {
     "name": "stdout",
     "output_type": "stream",
     "text": [
      "Enter a Number :1\n",
      "Enter a Number :5\n",
      "30\n"
     ]
    }
   ],
   "source": [
    "a=int(input(\"Enter a Number :\"))\n",
    "b=int(input(\"Enter a Number :\"))\n",
    "s=0\n",
    "for i in range(a,b+1):\n",
    "        s=s+Factorial(i)\n",
    "print(s//(b-a+1))"
   ]
  },
  {
   "cell_type": "markdown",
   "metadata": {},
   "source": [
    "### Function to generate N odd Armstrong numbers"
   ]
  },
  {
   "cell_type": "code",
   "execution_count": 7,
   "metadata": {},
   "outputs": [
    {
     "name": "stdout",
     "output_type": "stream",
     "text": [
      "Enter a Number :10\n",
      "[1, 2, 3, 4, 5, 6, 7, 8, 9, 153]\n"
     ]
    }
   ],
   "source": [
    "def armstrong(s):\n",
    "    total=0\n",
    "    power=len(s)\n",
    "    for i in s:\n",
    "        total+=int(i)**power\n",
    "    if(str(total)==s):\n",
    "        return True\n",
    "    return False\n",
    "\n",
    "i=int(input(\"Enter a Number :\"))\n",
    "no=1\n",
    "final_list=[]\n",
    "while(i>0):\n",
    "    if(armstrong(str(no))):\n",
    "        final_list.append(int(no))\n",
    "        i-=1\n",
    "    no+=1\n",
    "print(final_list)"
   ]
  },
  {
   "cell_type": "markdown",
   "metadata": {},
   "source": [
    "### Function to generate Multiplication table for a number in a given range"
   ]
  },
  {
   "cell_type": "code",
   "execution_count": 1,
   "metadata": {},
   "outputs": [
    {
     "name": "stdout",
     "output_type": "stream",
     "text": [
      "Enter low Number : 1\n",
      "Enter high Number : 3\n",
      "Enter Number : 10\n",
      "10  x  1  =  10\n",
      "10  x  2  =  20\n",
      "10  x  3  =  30\n"
     ]
    }
   ],
   "source": [
    "a=int(input(\"Enter low Number : \"))\n",
    "b=int(input(\"Enter high Number : \"))\n",
    "c=int(input(\"Enter Number : \"))\n",
    "for i in range(a,b+1):\n",
    "    print(c,' x ',i,' = ',c*i)"
   ]
  },
  {
   "cell_type": "code",
   "execution_count": null,
   "metadata": {},
   "outputs": [],
   "source": []
  }
 ],
 "metadata": {
  "kernelspec": {
   "display_name": "Python 3",
   "language": "python",
   "name": "python3"
  },
  "language_info": {
   "codemirror_mode": {
    "name": "ipython",
    "version": 3
   },
   "file_extension": ".py",
   "mimetype": "text/x-python",
   "name": "python",
   "nbconvert_exporter": "python",
   "pygments_lexer": "ipython3",
   "version": "3.7.1"
  }
 },
 "nbformat": 4,
 "nbformat_minor": 2
}
