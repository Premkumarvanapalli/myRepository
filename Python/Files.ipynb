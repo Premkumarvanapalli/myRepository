{
 "cells": [
  {
   "cell_type": "markdown",
   "metadata": {},
   "source": [
    "## 3 steps\n",
    "   - open file by specifying operation\n",
    "   - do operations\n",
    "   - close file"
   ]
  },
  {
   "cell_type": "markdown",
   "metadata": {},
   "source": [
    "### file=open(path,mode)"
   ]
  },
  {
   "cell_type": "markdown",
   "metadata": {},
   "source": [
    "### modes\n",
    "   > **r** - **T0 read Existing file**\n",
    "   \n",
    "   > **w** - **To overwrite existed file or creates and write to it**\n",
    "   \n",
    "   > **a** - **To append an existed file or it will create if not exist**\n",
    "   \n",
    "   > **r+** - **To read and write**\n",
    "   \n",
    "   > **w+** - **To read and write or create new**\n",
    "   \n",
    "   > **a+** - **To append and read**\n",
    "   \n",
    "   > **Modeb** - **To read according to mode as Binary File**"
   ]
  },
  {
   "cell_type": "code",
   "execution_count": 1,
   "metadata": {},
   "outputs": [
    {
     "name": "stdout",
     "output_type": "stream",
     "text": [
      "vasu\n",
      "prem\n",
      "kumar\n",
      "premvasu\n"
     ]
    }
   ],
   "source": [
    "file=open('1.txt','r')\n",
    "print(file.read())\n",
    "file.close()"
   ]
  },
  {
   "cell_type": "code",
   "execution_count": 15,
   "metadata": {},
   "outputs": [],
   "source": [
    "file=open('2.txt','w')\n",
    "file.write('Data taken from file 2.txt')\n",
    "file.close()\n",
    "file2=open('2.txt','r')\n",
    "file3=open('3.txt','w')\n",
    "file3.write(file2.read())\n",
    "file3.close()\n",
    "file2.close()"
   ]
  },
  {
   "cell_type": "markdown",
   "metadata": {},
   "source": [
    "### To tell the position of Cursor\n",
    "> file.tell()"
   ]
  },
  {
   "cell_type": "code",
   "execution_count": 17,
   "metadata": {},
   "outputs": [
    {
     "name": "stdout",
     "output_type": "stream",
     "text": [
      "0\n",
      "27\n"
     ]
    }
   ],
   "source": [
    "file=open('1.txt','r')\n",
    "print(file.tell())\n",
    "file.read()\n",
    "print(file.tell())\n",
    "file.close()"
   ]
  },
  {
   "cell_type": "markdown",
   "metadata": {},
   "source": [
    "### To move cursor to a position\n",
    "> file.seek(position)"
   ]
  },
  {
   "cell_type": "code",
   "execution_count": 20,
   "metadata": {},
   "outputs": [
    {
     "name": "stdout",
     "output_type": "stream",
     "text": [
      "0\n",
      "vasu\n",
      "prem\n",
      "kumar\n",
      "premvasu\n",
      "27\n",
      "10\n",
      "\n",
      "kumar\n",
      "premvasu\n",
      "27\n"
     ]
    }
   ],
   "source": [
    "file=open('1.txt','r')\n",
    "print(file.tell())\n",
    "print(file.read())\n",
    "print(file.tell())\n",
    "file.seek(10)\n",
    "print(file.tell())\n",
    "print(file.read())\n",
    "print(file.tell())\n",
    "file.close()"
   ]
  },
  {
   "cell_type": "code",
   "execution_count": 12,
   "metadata": {},
   "outputs": [
    {
     "name": "stdout",
     "output_type": "stream",
     "text": [
      "vasu\n",
      "\n",
      "prem\n",
      "\n",
      "kumar\n",
      "\n",
      "premvasu\n"
     ]
    }
   ],
   "source": [
    "file=open('1.txt','r')\n",
    "for line in file:\n",
    "    print(line)\n",
    "file.close()"
   ]
  },
  {
   "cell_type": "markdown",
   "metadata": {},
   "source": [
    "### readline || readlines"
   ]
  },
  {
   "cell_type": "code",
   "execution_count": 14,
   "metadata": {},
   "outputs": [
    {
     "name": "stdout",
     "output_type": "stream",
     "text": [
      "vasu\n",
      "\n",
      "['prem\\n', 'kumar\\n', 'premvasu']\n"
     ]
    }
   ],
   "source": [
    "file=open('1.txt','r')\n",
    "print(file.readline())\n",
    "print(file.readlines())\n",
    "file.close()"
   ]
  },
  {
   "cell_type": "markdown",
   "metadata": {},
   "source": [
    "## Task\n",
    "> Create a new file with invalid mobile numebrs"
   ]
  },
  {
   "cell_type": "code",
   "execution_count": 55,
   "metadata": {},
   "outputs": [],
   "source": [
    "import re\n",
    "mobile=open('mobile.txt','r')\n",
    "report=open('report.txt','w')\n",
    "report.write(mobile.readline())\n",
    "for i in mobile:\n",
    "    number=re.search('\\d+',i)\n",
    "    if number:\n",
    "        ph=i[number.start():number.end()]\n",
    "        if(bool(re.match('^[6-9]\\d{9}$',ph))==False):\n",
    "           report.write(i)\n",
    "report.close()\n",
    "mobile.close()"
   ]
  },
  {
   "cell_type": "code",
   "execution_count": 4,
   "metadata": {},
   "outputs": [],
   "source": [
    "marks=open(\"marks.txt\",'r')\n",
    "fail=open(\"fail.txt\",'w')\n",
    "fail.write(marks.readline())\n",
    "for i in marks:\n",
    "    a=i.split()\n",
    "    total=int(a[-2])+int(a[-1])\n",
    "    if(total<=30):\n",
    "        fail.write(i)\n",
    "marks.close()\n",
    "fail.close()"
   ]
  },
  {
   "cell_type": "code",
   "execution_count": null,
   "metadata": {},
   "outputs": [],
   "source": []
  }
 ],
 "metadata": {
  "kernelspec": {
   "display_name": "Python 3",
   "language": "python",
   "name": "python3"
  },
  "language_info": {
   "codemirror_mode": {
    "name": "ipython",
    "version": 3
   },
   "file_extension": ".py",
   "mimetype": "text/x-python",
   "name": "python",
   "nbconvert_exporter": "python",
   "pygments_lexer": "ipython3",
   "version": "3.7.1"
  }
 },
 "nbformat": 4,
 "nbformat_minor": 2
}
