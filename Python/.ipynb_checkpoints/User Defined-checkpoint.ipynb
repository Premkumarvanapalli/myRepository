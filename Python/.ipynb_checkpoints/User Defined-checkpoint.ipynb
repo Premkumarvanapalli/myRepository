{
 "cells": [
  {
   "cell_type": "code",
   "execution_count": 6,
   "metadata": {},
   "outputs": [
    {
     "name": "stdout",
     "output_type": "stream",
     "text": [
      "Enter a Number :90\n",
      "90\n"
     ]
    }
   ],
   "source": [
    "#Reading input from User\n",
    "name=input(\"Enter a Number :\")\n",
    "try:\n",
    "    print(int(name))\n",
    "except:\n",
    "    pass"
   ]
  },
  {
   "cell_type": "code",
   "execution_count": 8,
   "metadata": {},
   "outputs": [
    {
     "name": "stdout",
     "output_type": "stream",
     "text": [
      "Enter first Name :prem\n",
      "Enter Last Namekumar\n",
      "prem kumar\n",
      "kumar prem\n"
     ]
    }
   ],
   "source": [
    "# Names\n",
    "fname =input(\"Enter first Name :\")\n",
    "lname =input(\"Enter Last Name\")\n",
    "print(fname+\" \"+lname)\n",
    "print(lname+\" \"+fname)"
   ]
  },
  {
   "cell_type": "code",
   "execution_count": null,
   "metadata": {},
   "outputs": [],
   "source": [
    "# take two numbers from keyboard\n",
    "a=int(input(\"Enter Number a\"))\n",
    "b=int(input(\"Enter Number b\"))\n",
    "print(a+b)"
   ]
  },
  {
   "cell_type": "code",
   "execution_count": null,
   "metadata": {},
   "outputs": [],
   "source": [
    "n=input(\"Enter Number : \")\n",
    "print(\"hello\"*s)"
   ]
  },
  {
   "cell_type": "code",
   "execution_count": null,
   "metadata": {},
   "outputs": [],
   "source": []
  }
 ],
 "metadata": {
  "kernelspec": {
   "display_name": "Python 3",
   "language": "python",
   "name": "python3"
  },
  "language_info": {
   "codemirror_mode": {
    "name": "ipython",
    "version": 3
   },
   "file_extension": ".py",
   "mimetype": "text/x-python",
   "name": "python",
   "nbconvert_exporter": "python",
   "pygments_lexer": "ipython3",
   "version": "3.7.1"
  }
 },
 "nbformat": 4,
 "nbformat_minor": 2
}
